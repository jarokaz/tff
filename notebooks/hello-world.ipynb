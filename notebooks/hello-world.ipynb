{
 "cells": [
  {
   "cell_type": "markdown",
   "id": "unlikely-antarctica",
   "metadata": {},
   "source": [
    "# TFF/Anthos Hello World\n",
    "\n",
    "Before running the notebook make sure that you have obtained access credentials to GCP by executing \n",
    "\n",
    "```\n",
    "gcloud auth login\n",
    "```\n",
    "\n",
    "from the JupyterLab terminal"
   ]
  },
  {
   "cell_type": "code",
   "execution_count": 43,
   "id": "forty-angola",
   "metadata": {},
   "outputs": [],
   "source": [
    "import collections\n",
    "import time\n",
    "import numpy as np\n",
    "import grpc\n",
    "import sys\n",
    "\n",
    "import tensorflow as tf\n",
    "import tensorflow_federated as tff\n",
    "\n",
    "import nest_asyncio\n",
    "nest_asyncio.apply()"
   ]
  },
  {
   "cell_type": "markdown",
   "id": "lasting-plate",
   "metadata": {},
   "source": [
    "### Define federated computation\n",
    "\n",
    "Note that we need the explicit `tf.function` to make `tf.print` work."
   ]
  },
  {
   "cell_type": "code",
   "execution_count": 44,
   "id": "international-argument",
   "metadata": {},
   "outputs": [],
   "source": [
    "@tff.tf_computation(tf.int64)\n",
    "@tf.function\n",
    "def hello(n):\n",
    "    tf.print(\"Hello: \", n)\n",
    "    return n\n",
    "\n",
    "@tff.federated_computation(tff.FederatedType(tf.int64, tff.CLIENTS))\n",
    "def compute_federated_sum(federated_n):\n",
    "    return tff.federated_sum(tff.federated_map(hello, federated_n))"
   ]
  },
  {
   "cell_type": "markdown",
   "id": "derived-killing",
   "metadata": {},
   "source": [
    "### Run computation locally"
   ]
  },
  {
   "cell_type": "code",
   "execution_count": 45,
   "id": "convinced-powder",
   "metadata": {},
   "outputs": [],
   "source": [
    "tff.backends.native.set_local_execution_context()"
   ]
  },
  {
   "cell_type": "code",
   "execution_count": 46,
   "id": "painful-stanford",
   "metadata": {},
   "outputs": [
    {
     "name": "stdout",
     "output_type": "stream",
     "text": [
      "Hello:  2\n",
      "Hello:  1\n",
      "Hello:  1\n"
     ]
    },
    {
     "data": {
      "text/plain": [
       "4"
      ]
     },
     "execution_count": 46,
     "metadata": {},
     "output_type": "execute_result"
    }
   ],
   "source": [
    "compute_federated_sum([1, 2, 1])"
   ]
  },
  {
   "cell_type": "markdown",
   "id": "third-shaft",
   "metadata": {},
   "source": [
    "### Run computation on the executor in the `server` cluster"
   ]
  },
  {
   "cell_type": "code",
   "execution_count": 47,
   "id": "moderate-print",
   "metadata": {},
   "outputs": [],
   "source": [
    "port = 8000\n",
    "ip_address = '10.108.9.176' # Cluster IP\n",
    "\n",
    "channels = [grpc.insecure_channel(f'{ip_address}:{port}')]\n",
    "tff.backends.native.set_remote_execution_context(channels, rpc_mode='REQUEST_REPLY')"
   ]
  },
  {
   "cell_type": "code",
   "execution_count": 48,
   "id": "refined-hungary",
   "metadata": {},
   "outputs": [
    {
     "data": {
      "text/plain": [
       "1"
      ]
     },
     "execution_count": 48,
     "metadata": {},
     "output_type": "execute_result"
    }
   ],
   "source": [
    "compute_federated_sum([1])"
   ]
  },
  {
   "cell_type": "markdown",
   "id": "modular-fleet",
   "metadata": {},
   "source": [
    "#### Double check that the computation executed on the remote executor in the server cluster\n",
    "\n",
    "Install `kubectl`"
   ]
  },
  {
   "cell_type": "code",
   "execution_count": 52,
   "id": "selected-tournament",
   "metadata": {},
   "outputs": [
    {
     "name": "stdout",
     "output_type": "stream",
     "text": [
      "\u001b[1;31mERROR:\u001b[0m (gcloud.components.install) \n",
      "You cannot perform this action because the Cloud SDK component manager \n",
      "is disabled for this installation. You can run the following command \n",
      "to achieve the same result for this installation: \n",
      "\n",
      "sudo apt-get install kubectl\n",
      "\n",
      "\n"
     ]
    }
   ],
   "source": [
    "!gcloud components install kubectl"
   ]
  },
  {
   "cell_type": "markdown",
   "id": "specialized-hearts",
   "metadata": {},
   "source": []
  },
  {
   "cell_type": "code",
   "execution_count": 50,
   "id": "raised-tactics",
   "metadata": {},
   "outputs": [
    {
     "name": "stdout",
     "output_type": "stream",
     "text": [
      "\u001b[1;33mWARNING:\u001b[0m Accessing a Kubernetes Engine cluster requires the kubernetes commandline\n",
      "client [kubectl]. To install, run\n",
      "  $ gcloud components install kubectl\n",
      "\n",
      "Fetching cluster endpoint and auth data.\n",
      "kubeconfig entry generated for tff-server.\n"
     ]
    }
   ],
   "source": [
    "server_cluster_name = 'tff-server'\n",
    "zone = 'us-west1-a'\n",
    "\n",
    "!gcloud container clusters get-credentials {server_cluster_name} --zone {zone}"
   ]
  },
  {
   "cell_type": "markdown",
   "id": "fabulous-exemption",
   "metadata": {},
   "source": [
    "List pods"
   ]
  },
  {
   "cell_type": "code",
   "execution_count": 51,
   "id": "collectible-pennsylvania",
   "metadata": {},
   "outputs": [
    {
     "name": "stdout",
     "output_type": "stream",
     "text": [
      "/bin/bash: kubectl: command not found\n"
     ]
    }
   ],
   "source": [
    "namespace = 'tff'\n",
    "\n",
    "!kubectl get pods -n {namespace}"
   ]
  },
  {
   "cell_type": "code",
   "execution_count": 3,
   "id": "closing-edmonton",
   "metadata": {},
   "outputs": [],
   "source": [
    "ip_address = '0.0.0.0'  #@param {type:\"string\"}\n",
    "port = 8000  #@param {type:\"integer\"}\n",
    "\n",
    "channels = [grpc.insecure_channel(f'{ip_address}:{port}') for _ in range(1)]\n",
    "\n",
    "tff.backends.native.set_remote_execution_context(channels, rpc_mode='REQUEST_REPLY')"
   ]
  },
  {
   "cell_type": "code",
   "execution_count": 4,
   "id": "opposed-chocolate",
   "metadata": {},
   "outputs": [
    {
     "data": {
      "text/plain": [
       "[<grpc._channel.Channel at 0x7fd02e246210>]"
      ]
     },
     "execution_count": 4,
     "metadata": {},
     "output_type": "execute_result"
    }
   ],
   "source": [
    "channels"
   ]
  },
  {
   "cell_type": "code",
   "execution_count": 5,
   "id": "covered-hampshire",
   "metadata": {},
   "outputs": [],
   "source": [
    "#tff.backends.native.set_local_execution_context()"
   ]
  },
  {
   "cell_type": "code",
   "execution_count": null,
   "id": "missing-mattress",
   "metadata": {},
   "outputs": [],
   "source": [
    "compute_federated_sum([5])"
   ]
  },
  {
   "cell_type": "code",
   "execution_count": null,
   "id": "matched-anime",
   "metadata": {},
   "outputs": [],
   "source": []
  }
 ],
 "metadata": {
  "environment": {
   "name": "tf2-gpu.2-4.mnightly-2021-02-12-debian-10-test",
   "type": "gcloud",
   "uri": "gcr.io/deeplearning-platform-release/tf2-gpu.2-4:mnightly-2021-02-12-debian-10-test"
  },
  "kernelspec": {
   "display_name": "Python 3",
   "language": "python",
   "name": "python3"
  },
  "language_info": {
   "codemirror_mode": {
    "name": "ipython",
    "version": 3
   },
   "file_extension": ".py",
   "mimetype": "text/x-python",
   "name": "python",
   "nbconvert_exporter": "python",
   "pygments_lexer": "ipython3",
   "version": "3.7.9"
  }
 },
 "nbformat": 4,
 "nbformat_minor": 5
}
