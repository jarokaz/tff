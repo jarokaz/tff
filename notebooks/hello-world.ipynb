{
 "cells": [
  {
   "cell_type": "markdown",
   "id": "informative-works",
   "metadata": {},
   "source": [
    "# TFF/Anthos Hello World\n",
    "\n",
    "Before running the notebook make sure that you have obtained access credentials to GCP by executing \n",
    "\n",
    "```\n",
    "gcloud auth login\n",
    "```\n",
    "\n",
    "from the JupyterLab terminal"
   ]
  },
  {
   "cell_type": "code",
   "execution_count": 1,
   "id": "touched-architecture",
   "metadata": {},
   "outputs": [],
   "source": [
    "import collections\n",
    "import time\n",
    "import numpy as np\n",
    "import grpc\n",
    "import sys\n",
    "\n",
    "import tensorflow as tf\n",
    "import tensorflow_federated as tff\n",
    "\n",
    "import nest_asyncio\n",
    "nest_asyncio.apply()"
   ]
  },
  {
   "cell_type": "markdown",
   "id": "suburban-leadership",
   "metadata": {},
   "source": [
    "### Define federated computation\n",
    "\n",
    "Note that we need the explicit `tf.function` to make `tf.print` work."
   ]
  },
  {
   "cell_type": "code",
   "execution_count": 2,
   "id": "atomic-minimum",
   "metadata": {},
   "outputs": [],
   "source": [
    "@tff.tf_computation(tf.int64)\n",
    "@tf.function\n",
    "def hello(n):\n",
    "    tf.print(\"Hello: \", n)\n",
    "    return n\n",
    "\n",
    "@tff.federated_computation(tff.FederatedType(tf.int64, tff.CLIENTS))\n",
    "def compute_federated_sum(federated_n):\n",
    "    return tff.federated_sum(tff.federated_map(hello, federated_n))"
   ]
  },
  {
   "cell_type": "markdown",
   "id": "sealed-prediction",
   "metadata": {},
   "source": [
    "### Run computation locally"
   ]
  },
  {
   "cell_type": "code",
   "execution_count": 35,
   "id": "latin-greece",
   "metadata": {},
   "outputs": [],
   "source": [
    "tff.backends.native.set_local_execution_context()"
   ]
  },
  {
   "cell_type": "code",
   "execution_count": 36,
   "id": "dental-plaintiff",
   "metadata": {},
   "outputs": [
    {
     "name": "stdout",
     "output_type": "stream",
     "text": [
      "Hello:  2\n",
      "Hello:  1\n",
      "Hello:  1\n"
     ]
    },
    {
     "data": {
      "text/plain": [
       "4"
      ]
     },
     "execution_count": 36,
     "metadata": {},
     "output_type": "execute_result"
    }
   ],
   "source": [
    "compute_federated_sum([1, 2, 1])"
   ]
  },
  {
   "cell_type": "markdown",
   "id": "lovely-furniture",
   "metadata": {},
   "source": [
    "### Run computation on the executor in the `server` cluster"
   ]
  },
  {
   "cell_type": "code",
   "execution_count": 37,
   "id": "shared-morris",
   "metadata": {},
   "outputs": [],
   "source": [
    "port = 8000\n",
    "ip_address = '10.108.9.176' # Cluster IP\n",
    "\n",
    "channels = [grpc.insecure_channel(f'{ip_address}:{port}')]\n",
    "tff.backends.native.set_remote_execution_context(channels, rpc_mode='REQUEST_REPLY')"
   ]
  },
  {
   "cell_type": "markdown",
   "id": "found-suggestion",
   "metadata": {},
   "source": [
    "The first call may hang. Interrupt and execute it again."
   ]
  },
  {
   "cell_type": "code",
   "execution_count": 41,
   "id": "sublime-leader",
   "metadata": {},
   "outputs": [
    {
     "data": {
      "text/plain": [
       "1"
      ]
     },
     "execution_count": 41,
     "metadata": {},
     "output_type": "execute_result"
    }
   ],
   "source": [
    "compute_federated_sum([1])"
   ]
  },
  {
   "cell_type": "markdown",
   "id": "soviet-stock",
   "metadata": {},
   "source": [
    "#### Double check that the computation executed on the remote executor in the server cluster\n",
    "\n",
    "Get cluster credentials."
   ]
  },
  {
   "cell_type": "code",
   "execution_count": 42,
   "id": "expired-gibson",
   "metadata": {},
   "outputs": [
    {
     "name": "stdout",
     "output_type": "stream",
     "text": [
      "Fetching cluster endpoint and auth data.\n",
      "kubeconfig entry generated for tff-server.\n"
     ]
    }
   ],
   "source": [
    "server_cluster_name = 'tff-server'\n",
    "zone = 'us-west1-a'\n",
    "\n",
    "!gcloud container clusters get-credentials {server_cluster_name} --zone {zone}"
   ]
  },
  {
   "cell_type": "markdown",
   "id": "rocky-dress",
   "metadata": {},
   "source": [
    "List pods"
   ]
  },
  {
   "cell_type": "code",
   "execution_count": 43,
   "id": "informative-sheffield",
   "metadata": {},
   "outputs": [
    {
     "data": {
      "text/plain": [
       "'remote-executor-7944fc4874-qgfrs'"
      ]
     },
     "execution_count": 43,
     "metadata": {},
     "output_type": "execute_result"
    }
   ],
   "source": [
    "namespace = 'tff'\n",
    "\n",
    "pods = !kubectl get pods -n {namespace} --no-headers -o custom-columns=\":metadata.name\"\n",
    "remote_executor_pod = [pod for pod in pods if pod.startswith('remote')][0]\n",
    "remote_executor_pod"
   ]
  },
  {
   "cell_type": "markdown",
   "id": "formal-greene",
   "metadata": {},
   "source": [
    "Retrieve logs"
   ]
  },
  {
   "cell_type": "code",
   "execution_count": 44,
   "id": "moderate-chocolate",
   "metadata": {},
   "outputs": [
    {
     "data": {
      "text/plain": [
       "['Hello:  1', 'Hello:  1']"
      ]
     },
     "execution_count": 44,
     "metadata": {},
     "output_type": "execute_result"
    }
   ],
   "source": [
    "logs = !kubectl logs {remote_executor_pod}\n",
    "logs[-3:-1]"
   ]
  },
  {
   "cell_type": "markdown",
   "id": "referenced-today",
   "metadata": {},
   "source": [
    "### Run computation on the client executors"
   ]
  },
  {
   "cell_type": "code",
   "execution_count": 45,
   "id": "blond-community",
   "metadata": {},
   "outputs": [],
   "source": [
    "port = 8000\n",
    "ip_addresses = ['35.233.216.138', '34.82.15.47'] # LoadBalancer IPs\n",
    "\n",
    "channels = [grpc.insecure_channel(f'{ip_address}:{port}') for ip_address in ip_addresses]\n",
    "tff.backends.native.set_remote_execution_context(channels, rpc_mode='REQUEST_REPLY')"
   ]
  },
  {
   "cell_type": "markdown",
   "id": "unavailable-campaign",
   "metadata": {},
   "source": [
    "The first call may hang. Interrupt and execute it again."
   ]
  },
  {
   "cell_type": "code",
   "execution_count": 56,
   "id": "black-comment",
   "metadata": {},
   "outputs": [
    {
     "data": {
      "text/plain": [
       "3"
      ]
     },
     "execution_count": 56,
     "metadata": {},
     "output_type": "execute_result"
    }
   ],
   "source": [
    "compute_federated_sum([1, 2])"
   ]
  },
  {
   "cell_type": "markdown",
   "id": "respected-invention",
   "metadata": {},
   "source": [
    "#### Double check that the computation executed on the remote executor on one of the client cluster\n",
    "\n",
    "Get cluster credentials."
   ]
  },
  {
   "cell_type": "code",
   "execution_count": 57,
   "id": "third-klein",
   "metadata": {},
   "outputs": [
    {
     "name": "stdout",
     "output_type": "stream",
     "text": [
      "Fetching cluster endpoint and auth data.\n",
      "kubeconfig entry generated for tff-client-1.\n"
     ]
    }
   ],
   "source": [
    "client_cluster_name = 'tff-client-1'\n",
    "zone = 'us-west1-a'\n",
    "\n",
    "!gcloud container clusters get-credentials {client_cluster_name} --zone {zone}"
   ]
  },
  {
   "cell_type": "markdown",
   "id": "underlying-persian",
   "metadata": {},
   "source": [
    "List pods"
   ]
  },
  {
   "cell_type": "code",
   "execution_count": 58,
   "id": "universal-wound",
   "metadata": {},
   "outputs": [
    {
     "data": {
      "text/plain": [
       "'remote-executor-7944fc4874-fbcv4'"
      ]
     },
     "execution_count": 58,
     "metadata": {},
     "output_type": "execute_result"
    }
   ],
   "source": [
    "namespace = 'tff'\n",
    "\n",
    "pods = !kubectl get pods -n {namespace} --no-headers -o custom-columns=\":metadata.name\"\n",
    "remote_executor_pod = [pod for pod in pods if pod.startswith('remote')][0]\n",
    "remote_executor_pod"
   ]
  },
  {
   "cell_type": "markdown",
   "id": "given-whole",
   "metadata": {},
   "source": [
    "Retrieve logs"
   ]
  },
  {
   "cell_type": "code",
   "execution_count": 59,
   "id": "dutch-traveler",
   "metadata": {},
   "outputs": [
    {
     "data": {
      "text/plain": [
       "['Hello:  2', 'Hello:  2']"
      ]
     },
     "execution_count": 59,
     "metadata": {},
     "output_type": "execute_result"
    }
   ],
   "source": [
    "logs = !kubectl logs {remote_executor_pod}\n",
    "logs[-3:-1]"
   ]
  },
  {
   "cell_type": "code",
   "execution_count": null,
   "id": "ambient-providence",
   "metadata": {},
   "outputs": [],
   "source": []
  }
 ],
 "metadata": {
  "environment": {
   "name": "tf2-gpu.2-4.mnightly-2021-02-12-debian-10-test",
   "type": "gcloud",
   "uri": "gcr.io/deeplearning-platform-release/tf2-gpu.2-4:mnightly-2021-02-12-debian-10-test"
  },
  "kernelspec": {
   "display_name": "Python 3",
   "language": "python",
   "name": "python3"
  },
  "language_info": {
   "codemirror_mode": {
    "name": "ipython",
    "version": 3
   },
   "file_extension": ".py",
   "mimetype": "text/x-python",
   "name": "python",
   "nbconvert_exporter": "python",
   "pygments_lexer": "ipython3",
   "version": "3.7.9"
  }
 },
 "nbformat": 4,
 "nbformat_minor": 5
}
