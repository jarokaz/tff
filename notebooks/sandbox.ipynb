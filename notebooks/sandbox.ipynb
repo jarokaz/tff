{
 "cells": [
  {
   "cell_type": "code",
   "execution_count": 1,
   "id": "pleased-contest",
   "metadata": {},
   "outputs": [],
   "source": [
    "import collections\n",
    "import time\n",
    "import numpy as np\n",
    "import grpc\n",
    "\n",
    "import tensorflow as tf\n",
    "import tensorflow_federated as tff\n",
    "\n",
    "import nest_asyncio\n",
    "nest_asyncio.apply()"
   ]
  },
  {
   "cell_type": "code",
   "execution_count": 2,
   "id": "occasional-department",
   "metadata": {},
   "outputs": [],
   "source": [
    "@tff.tf_computation(tf.int64)\n",
    "def make_data(n):\n",
    "   return tf.data.Dataset.range(n)\n",
    "\n",
    "@tff.tf_computation(tff.SequenceType(tf.int64))\n",
    "def sum_data(dataset):\n",
    "   return dataset.reduce(np.int64(0), lambda x, y: x + y)\n",
    "\n",
    "@tff.federated_computation(tff.FederatedType(tf.int64, tff.CLIENTS))\n",
    "def compute_local_sum(federated_n):\n",
    "    dataset   = tff.federated_map(make_data, federated_n)\n",
    "    local_sum = tff.federated_map(sum_data, dataset)\n",
    "    return local_sum\n",
    "\n",
    "@tff.federated_computation(tff.FederatedType(tf.int64, tff.CLIENTS))\n",
    "def compute_federated_sum(federated_n):\n",
    "    return tff.federated_sum(compute_local_sum(federated_n))"
   ]
  },
  {
   "cell_type": "code",
   "execution_count": null,
   "id": "minor-affect",
   "metadata": {},
   "outputs": [],
   "source": []
  },
  {
   "cell_type": "code",
   "execution_count": 3,
   "id": "unavailable-comment",
   "metadata": {},
   "outputs": [],
   "source": [
    "ip_address = '0.0.0.0'  #@param {type:\"string\"}\n",
    "port = 8000  #@param {type:\"integer\"}\n",
    "\n",
    "channels = [grpc.insecure_channel(f'{ip_address}:{port}') for _ in range(1)]\n",
    "\n",
    "tff.backends.native.set_remote_execution_context(channels, rpc_mode='REQUEST_REPLY')"
   ]
  },
  {
   "cell_type": "code",
   "execution_count": 4,
   "id": "electoral-kazakhstan",
   "metadata": {},
   "outputs": [
    {
     "data": {
      "text/plain": [
       "[<grpc._channel.Channel at 0x7fd02e246210>]"
      ]
     },
     "execution_count": 4,
     "metadata": {},
     "output_type": "execute_result"
    }
   ],
   "source": [
    "channels"
   ]
  },
  {
   "cell_type": "code",
   "execution_count": 5,
   "id": "immediate-birthday",
   "metadata": {},
   "outputs": [],
   "source": [
    "#tff.backends.native.set_local_execution_context()"
   ]
  },
  {
   "cell_type": "code",
   "execution_count": null,
   "id": "interested-complaint",
   "metadata": {},
   "outputs": [],
   "source": [
    "compute_federated_sum([5])"
   ]
  },
  {
   "cell_type": "code",
   "execution_count": null,
   "id": "juvenile-palmer",
   "metadata": {},
   "outputs": [],
   "source": []
  }
 ],
 "metadata": {
  "environment": {
   "name": "tf2-gpu.2-4.mnightly-2021-02-12-debian-10-test",
   "type": "gcloud",
   "uri": "gcr.io/deeplearning-platform-release/tf2-gpu.2-4:mnightly-2021-02-12-debian-10-test"
  },
  "kernelspec": {
   "display_name": "Python 3",
   "language": "python",
   "name": "python3"
  },
  "language_info": {
   "codemirror_mode": {
    "name": "ipython",
    "version": 3
   },
   "file_extension": ".py",
   "mimetype": "text/x-python",
   "name": "python",
   "nbconvert_exporter": "python",
   "pygments_lexer": "ipython3",
   "version": "3.7.9"
  }
 },
 "nbformat": 4,
 "nbformat_minor": 5
}
